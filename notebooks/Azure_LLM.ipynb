{
 "cells": [
  {
   "cell_type": "code",
   "execution_count": null,
   "outputs": [],
   "source": [
    "### Azure LLM OpenAI Usage ###\n",
    "\n",
    "# CHAT (Our Azure Deployment is Chat Only)\n",
    "# https://python.langchain.com/docs/integrations/chat/azure_chat_openai#model-version"
   ],
   "metadata": {
    "collapsed": false
   }
  },
  {
   "cell_type": "code",
   "execution_count": 11,
   "outputs": [
    {
     "name": "stdout",
     "output_type": "stream",
     "text": [
      "Looking in indexes: https://pypi.org/simple, https://download.pytorch.org/whl/cpu:\r\n",
      "Requirement already satisfied: unstructured in /opt/pytorch/lib/python3.8/site-packages (0.10.19)\r\n",
      "Collecting langchain\r\n",
      "  Downloading langchain-0.0.310-py3-none-any.whl (1.8 MB)\r\n",
      "     |████████████████████████████████| 1.8 MB 10.7 MB/s            \r\n",
      "\u001B[?25hRequirement already satisfied: huggingface_hub in /opt/pytorch/lib/python3.8/site-packages (0.17.3)\r\n",
      "Requirement already satisfied: passlib in /opt/pytorch/lib/python3.8/site-packages (1.7.4)\r\n",
      "Requirement already satisfied: datasets in /opt/pytorch/lib/python3.8/site-packages (2.14.5)\r\n",
      "Requirement already satisfied: openai in /opt/pytorch/lib/python3.8/site-packages (0.28.1)\r\n",
      "Requirement already satisfied: nltk in /opt/pytorch/lib/python3.8/site-packages (from unstructured) (3.8.1)\r\n",
      "Requirement already satisfied: python-iso639 in /opt/pytorch/lib/python3.8/site-packages (from unstructured) (2023.6.15)\r\n",
      "Requirement already satisfied: requests in /opt/pytorch/lib/python3.8/site-packages (from unstructured) (2.31.0)\r\n",
      "Requirement already satisfied: langdetect in /opt/pytorch/lib/python3.8/site-packages (from unstructured) (1.0.9)\r\n",
      "Requirement already satisfied: python-magic in /opt/pytorch/lib/python3.8/site-packages (from unstructured) (0.4.27)\r\n",
      "Requirement already satisfied: dataclasses-json in /opt/pytorch/lib/python3.8/site-packages (from unstructured) (0.6.1)\r\n",
      "Requirement already satisfied: tabulate in /opt/pytorch/lib/python3.8/site-packages (from unstructured) (0.9.0)\r\n",
      "Requirement already satisfied: beautifulsoup4 in /opt/pytorch/lib/python3.8/site-packages (from unstructured) (4.12.2)\r\n",
      "Requirement already satisfied: chardet in /opt/pytorch/lib/python3.8/site-packages (from unstructured) (5.2.0)\r\n",
      "Requirement already satisfied: emoji in /opt/pytorch/lib/python3.8/site-packages (from unstructured) (2.8.0)\r\n",
      "Requirement already satisfied: numpy in /opt/pytorch/lib/python3.8/site-packages (from unstructured) (1.21.6)\r\n",
      "Requirement already satisfied: lxml in /opt/pytorch/lib/python3.8/site-packages (from unstructured) (4.9.3)\r\n",
      "Requirement already satisfied: filetype in /opt/pytorch/lib/python3.8/site-packages (from unstructured) (1.2.0)\r\n",
      "Collecting jsonpatch<2.0,>=1.33\r\n",
      "  Downloading jsonpatch-1.33-py2.py3-none-any.whl (12 kB)\r\n",
      "Requirement already satisfied: PyYAML>=5.3 in /opt/pytorch/lib/python3.8/site-packages (from langchain) (5.4.1)\r\n",
      "Requirement already satisfied: SQLAlchemy<3,>=1.4 in /opt/pytorch/lib/python3.8/site-packages (from langchain) (1.4.48)\r\n",
      "Requirement already satisfied: async-timeout<5.0.0,>=4.0.0 in /opt/pytorch/lib/python3.8/site-packages (from langchain) (4.0.3)\r\n",
      "Collecting tenacity<9.0.0,>=8.1.0\r\n",
      "  Downloading tenacity-8.2.3-py3-none-any.whl (24 kB)\r\n",
      "Collecting langsmith<0.1.0,>=0.0.40\r\n",
      "  Downloading langsmith-0.0.43-py3-none-any.whl (40 kB)\r\n",
      "     |████████████████████████████████| 40 kB 21.8 MB/s            \r\n",
      "\u001B[?25hCollecting pydantic<3,>=1\r\n",
      "  Downloading pydantic-2.4.2-py3-none-any.whl (395 kB)\r\n",
      "     |████████████████████████████████| 395 kB 78.8 MB/s            \r\n",
      "\u001B[?25hRequirement already satisfied: anyio<4.0 in /opt/pytorch/lib/python3.8/site-packages (from langchain) (3.7.0)\r\n",
      "Requirement already satisfied: aiohttp<4.0.0,>=3.8.3 in /opt/pytorch/lib/python3.8/site-packages (from langchain) (3.8.6)\r\n",
      "Requirement already satisfied: fsspec in /opt/pytorch/lib/python3.8/site-packages (from huggingface_hub) (2023.6.0)\r\n",
      "Requirement already satisfied: typing-extensions>=3.7.4.3 in /opt/pytorch/lib/python3.8/site-packages (from huggingface_hub) (4.7.1)\r\n",
      "Requirement already satisfied: packaging>=20.9 in /opt/pytorch/lib/python3.8/site-packages (from huggingface_hub) (23.1)\r\n",
      "Requirement already satisfied: tqdm>=4.42.1 in /opt/pytorch/lib/python3.8/site-packages (from huggingface_hub) (4.65.0)\r\n",
      "Requirement already satisfied: filelock in /opt/pytorch/lib/python3.8/site-packages (from huggingface_hub) (3.12.2)\r\n",
      "Requirement already satisfied: pyarrow>=8.0.0 in /opt/pytorch/lib/python3.8/site-packages (from datasets) (13.0.0)\r\n",
      "Requirement already satisfied: dill<0.3.8,>=0.3.0 in /opt/pytorch/lib/python3.8/site-packages (from datasets) (0.3.7)\r\n",
      "Requirement already satisfied: pandas in /opt/pytorch/lib/python3.8/site-packages (from datasets) (2.0.3)\r\n",
      "Requirement already satisfied: multiprocess in /opt/pytorch/lib/python3.8/site-packages (from datasets) (0.70.15)\r\n",
      "Requirement already satisfied: xxhash in /opt/pytorch/lib/python3.8/site-packages (from datasets) (3.4.1)\r\n",
      "Requirement already satisfied: charset-normalizer<4.0,>=2.0 in /opt/pytorch/lib/python3.8/site-packages (from aiohttp<4.0.0,>=3.8.3->langchain) (3.1.0)\r\n",
      "Requirement already satisfied: aiosignal>=1.1.2 in /opt/pytorch/lib/python3.8/site-packages (from aiohttp<4.0.0,>=3.8.3->langchain) (1.3.1)\r\n",
      "Requirement already satisfied: yarl<2.0,>=1.0 in /opt/pytorch/lib/python3.8/site-packages (from aiohttp<4.0.0,>=3.8.3->langchain) (1.9.2)\r\n",
      "Requirement already satisfied: attrs>=17.3.0 in /opt/pytorch/lib/python3.8/site-packages (from aiohttp<4.0.0,>=3.8.3->langchain) (23.1.0)\r\n",
      "Requirement already satisfied: frozenlist>=1.1.1 in /opt/pytorch/lib/python3.8/site-packages (from aiohttp<4.0.0,>=3.8.3->langchain) (1.4.0)\r\n",
      "Requirement already satisfied: multidict<7.0,>=4.5 in /opt/pytorch/lib/python3.8/site-packages (from aiohttp<4.0.0,>=3.8.3->langchain) (6.0.4)\r\n",
      "Requirement already satisfied: idna>=2.8 in /opt/pytorch/lib/python3.8/site-packages (from anyio<4.0->langchain) (3.4)\r\n",
      "Requirement already satisfied: exceptiongroup in /opt/pytorch/lib/python3.8/site-packages (from anyio<4.0->langchain) (1.1.2)\r\n",
      "Requirement already satisfied: sniffio>=1.1 in /opt/pytorch/lib/python3.8/site-packages (from anyio<4.0->langchain) (1.3.0)\r\n",
      "Requirement already satisfied: typing-inspect<1,>=0.4.0 in /opt/pytorch/lib/python3.8/site-packages (from dataclasses-json->unstructured) (0.9.0)\r\n",
      "Requirement already satisfied: marshmallow<4.0.0,>=3.18.0 in /opt/pytorch/lib/python3.8/site-packages (from dataclasses-json->unstructured) (3.20.1)\r\n",
      "Requirement already satisfied: jsonpointer>=1.9 in /opt/pytorch/lib/python3.8/site-packages (from jsonpatch<2.0,>=1.33->langchain) (2.4)\r\n",
      "Collecting annotated-types>=0.4.0\r\n",
      "  Downloading annotated_types-0.6.0-py3-none-any.whl (12 kB)\r\n",
      "Collecting pydantic-core==2.10.1\r\n",
      "  Downloading pydantic_core-2.10.1-cp38-cp38-manylinux_2_17_x86_64.manylinux2014_x86_64.whl (2.1 MB)\r\n",
      "     |████████████████████████████████| 2.1 MB 69.9 MB/s            \r\n",
      "\u001B[?25hRequirement already satisfied: certifi>=2017.4.17 in /opt/pytorch/lib/python3.8/site-packages (from requests->unstructured) (2023.5.7)\r\n",
      "Requirement already satisfied: urllib3<3,>=1.21.1 in /opt/pytorch/lib/python3.8/site-packages (from requests->unstructured) (1.26.16)\r\n",
      "Requirement already satisfied: greenlet!=0.4.17 in /opt/pytorch/lib/python3.8/site-packages (from SQLAlchemy<3,>=1.4->langchain) (2.0.2)\r\n",
      "Requirement already satisfied: soupsieve>1.2 in /opt/pytorch/lib/python3.8/site-packages (from beautifulsoup4->unstructured) (2.4.1)\r\n",
      "Requirement already satisfied: six in /opt/pytorch/lib/python3.8/site-packages (from langdetect->unstructured) (1.16.0)\r\n",
      "Requirement already satisfied: click in /opt/pytorch/lib/python3.8/site-packages (from nltk->unstructured) (8.1.7)\r\n",
      "Requirement already satisfied: regex>=2021.8.3 in /opt/pytorch/lib/python3.8/site-packages (from nltk->unstructured) (2023.10.3)\r\n",
      "Requirement already satisfied: joblib in /opt/pytorch/lib/python3.8/site-packages (from nltk->unstructured) (1.3.2)\r\n",
      "Requirement already satisfied: tzdata>=2022.1 in /opt/pytorch/lib/python3.8/site-packages (from pandas->datasets) (2023.3)\r\n",
      "Requirement already satisfied: python-dateutil>=2.8.2 in /opt/pytorch/lib/python3.8/site-packages (from pandas->datasets) (2.8.2)\r\n",
      "Requirement already satisfied: pytz>=2020.1 in /opt/pytorch/lib/python3.8/site-packages (from pandas->datasets) (2023.3)\r\n",
      "Requirement already satisfied: mypy-extensions>=0.3.0 in /opt/pytorch/lib/python3.8/site-packages (from typing-inspect<1,>=0.4.0->dataclasses-json->unstructured) (1.0.0)\r\n",
      "Installing collected packages: pydantic-core, annotated-types, pydantic, tenacity, langsmith, jsonpatch, langchain\r\n",
      "Successfully installed annotated-types-0.6.0 jsonpatch-1.33 langchain-0.0.310 langsmith-0.0.43 pydantic-2.4.2 pydantic-core-2.10.1 tenacity-8.2.3\r\n"
     ]
    }
   ],
   "source": [
    "\n",
    "# Do Not Use This\n",
    "# ! pip install unstructured langchain huggingface_hub passlib datasets openai --upgrade\n",
    "! poetry add unstructured langchain huggingface_hub passlib datasets openai --dev"
   ],
   "metadata": {
    "collapsed": false
   }
  },
  {
   "cell_type": "code",
   "execution_count": null,
   "outputs": [],
   "source": [
    "import os\n",
    "\n",
    "from langchain.chat_models import AzureChatOpenAI\n",
    "from langchain.schema import HumanMessage\n",
    "\n",
    "\n",
    "os.environ[\"AZURE_OPENAI_API_KEY\"] = \"...\"\n",
    "os.environ[\"AZURE_OPENAI_ENDPOINT\"] = \"https://<your-endpoint>.openai.azure.com/\"\n",
    "\n",
    "model = AzureChatOpenAI(\n",
    "    openai_api_version=\"2023-05-15\",\n",
    "    azure_deployment=\"your-deployment-name\",\n",
    ")\n",
    "\n",
    "message = HumanMessage(\n",
    "    content=\"Translate this sentence from English to French. I love programming.\"\n",
    ")\n",
    "model([message])"
   ],
   "metadata": {
    "collapsed": false
   }
  },
  {
   "cell_type": "code",
   "execution_count": null,
   "id": "5cefb7f22de19e0",
   "metadata": {
    "collapsed": false
   },
   "outputs": [],
   "source": [
    "import os\n",
    "from huggingface_hub import login\n",
    "\n",
    "\n",
    "### Azure Env ###\n",
    "OPENAI_DEPLOYMENT_NAME = \"mozart-ai-gpt-35\"\n",
    "OPENAI_MODEL_NAME = \"gpt-35-turbo\"\n",
    "OPENAI_DEPLOYMENT_ENDPOINT= \"https://mozart-ai.openai.azure.com/\"\n",
    "OPENAI_DEPLOYMENT_VERSION = \"2023-07-01-preview\"\n",
    "\n",
    "### Azure API KEY Access ###\n",
    "OPENAI_API_KEY = os.getenv(\"OPENAI_API_KEY\")\n",
    "if OPENAI_API_KEY is None:\n",
    "    OPENAI_API_KEY = getpass(\"Enter your Azure OpenAI API key: \")\n",
    "\n",
    "\n",
    "### HuggingFace Hub ###\n",
    "HF_TOKEN = os.getenv(\"HF_TOKEN\")\n",
    "if HF_TOKEN is None:\n",
    "   HF_TOKEN = getpass(\"Enter your HuggingFace Hub Token: \")\n",
    "login(token=HF_TOKEN)\n"
   ]
  },
  {
   "cell_type": "code",
   "execution_count": 8,
   "id": "36bbaa31a2038880",
   "metadata": {
    "ExecuteTime": {
     "end_time": "2023-10-09T10:47:42.397510Z",
     "start_time": "2023-10-09T10:47:33.296433Z"
    },
    "collapsed": false
   },
   "outputs": [],
   "source": [
    "### Note: The openai-python library support for Azure OpenAI is in preview.\n",
    "\n",
    "\n",
    "\n",
    "openai.api_type = \"azure\"\n",
    "openai.api_base = \"https://mozart-ai.openai.azure.com/\"\n",
    "openai.api_version = \"2023-07-01-preview\"\n",
    "\n",
    "\n",
    "### Azure AI Access ###\n",
    "OPENAI_API_KEY = os.getenv(\"OPENAI_API_KEY\")\n",
    "if OPENAI_API_KEY is None:\n",
    "    Azure_OPENAI_API_KEY = getpass(\"Enter your Azure OpenAI API key: \")\n",
    "    os.environ[\"OPENAI_API_KEY\"] = Azure_OPENAI_API_KEY\n",
    "openai.api_key = OPENAI_API_KEY\n"
   ]
  },
  {
   "cell_type": "code",
   "execution_count": 14,
   "id": "e40d51542c8f7746",
   "metadata": {
    "ExecuteTime": {
     "end_time": "2023-10-09T10:58:22.308261Z",
     "start_time": "2023-10-09T10:58:19.550362Z"
    },
    "collapsed": false
   },
   "outputs": [
    {
     "data": {
      "text/plain": [
       "<OpenAIObject chat.completion id=chatcmpl-87iFn52cR8TK96pGcPG2FRC5B7iS1 at 0x7f25d078d220> JSON: {\n",
       "  \"id\": \"chatcmpl-87iFn52cR8TK96pGcPG2FRC5B7iS1\",\n",
       "  \"object\": \"chat.completion\",\n",
       "  \"created\": 1696849099,\n",
       "  \"model\": \"gpt-35-turbo\",\n",
       "  \"prompt_filter_results\": [\n",
       "    {\n",
       "      \"prompt_index\": 0,\n",
       "      \"content_filter_results\": {\n",
       "        \"hate\": {\n",
       "          \"filtered\": false,\n",
       "          \"severity\": \"safe\"\n",
       "        },\n",
       "        \"self_harm\": {\n",
       "          \"filtered\": false,\n",
       "          \"severity\": \"low\"\n",
       "        },\n",
       "        \"sexual\": {\n",
       "          \"filtered\": false,\n",
       "          \"severity\": \"safe\"\n",
       "        },\n",
       "        \"violence\": {\n",
       "          \"filtered\": false,\n",
       "          \"severity\": \"safe\"\n",
       "        }\n",
       "      }\n",
       "    }\n",
       "  ],\n",
       "  \"choices\": [\n",
       "    {\n",
       "      \"index\": 0,\n",
       "      \"finish_reason\": \"stop\",\n",
       "      \"message\": {\n",
       "        \"role\": \"assistant\",\n",
       "        \"content\": \"As an AI language model, it is not appropriate for me to discuss or provide information on the purpose of suicide. Suicide is a complex and sensitive issue that requires compassion, understanding, and appropriate professional help. If you or someone you know is struggling with suicidal thoughts or behaviors, I encourage you to seek immediate help from a mental health professional or a crisis hotline. In the US, you can call the National Suicide Prevention Lifeline at 1-800-273-TALK (8255) for confidential support and assistance.\"\n",
       "      },\n",
       "      \"content_filter_results\": {\n",
       "        \"hate\": {\n",
       "          \"filtered\": false,\n",
       "          \"severity\": \"safe\"\n",
       "        },\n",
       "        \"self_harm\": {\n",
       "          \"filtered\": false,\n",
       "          \"severity\": \"safe\"\n",
       "        },\n",
       "        \"sexual\": {\n",
       "          \"filtered\": false,\n",
       "          \"severity\": \"safe\"\n",
       "        },\n",
       "        \"violence\": {\n",
       "          \"filtered\": false,\n",
       "          \"severity\": \"safe\"\n",
       "        }\n",
       "      }\n",
       "    }\n",
       "  ],\n",
       "  \"usage\": {\n",
       "    \"completion_tokens\": 104,\n",
       "    \"prompt_tokens\": 35,\n",
       "    \"total_tokens\": 139\n",
       "  }\n",
       "}"
      ]
     },
     "execution_count": 14,
     "metadata": {},
     "output_type": "execute_result"
    }
   ],
   "source": [
    "\n",
    "### OpenAI Playground ###\n",
    "\n",
    "\n",
    "Messages_Input = [\n",
    "    {\n",
    "        \"role\":\"system\",\n",
    "        \"content\":\"You are a Data Entry and Collection Assistant in an ESG Ratings Organization.\"\n",
    "    },\n",
    "    {\n",
    "        \"role\":\"user\",\n",
    "        \"content\":\"What is Your role?\"\n",
    "    }\n",
    "]\n",
    "\n",
    "response = openai.ChatCompletion.create(\n",
    "    engine=\"mozart-ai-gpt-35\",\n",
    "    messages =Messages_Input,\n",
    "    temperature=0.7,\n",
    "    max_tokens=800,\n",
    "    top_p=0.95,\n",
    "    frequency_penalty=0,\n",
    "    presence_penalty=0,\n",
    "    stop=None)\n",
    "\n",
    "response\n"
   ]
  },
  {
   "cell_type": "code",
   "execution_count": 16,
   "id": "dafe2c1234fdf4e0",
   "metadata": {
    "ExecuteTime": {
     "end_time": "2023-10-09T10:59:54.070420Z",
     "start_time": "2023-10-09T10:59:52.632945Z"
    },
    "collapsed": false
   },
   "outputs": [
    {
     "data": {
      "text/plain": [
       "'As an AI language model, my role is to assist and respond to user queries in natural language. I do not have a specific job or function, as my abilities and applications are versatile and can be utilized in various industries and sectors, from customer service to research and development.'"
      ]
     },
     "execution_count": 16,
     "metadata": {},
     "output_type": "execute_result"
    }
   ],
   "source": [
    "\n",
    "\n",
    "from langchain.chat_models import AzureChatOpenAI\n",
    "\n",
    "\n",
    "### LLM ###\n",
    "LLM = AzureChatOpenAI(\n",
    "    deployment_name=OPENAI_DEPLOYMENT_NAME,\n",
    "    model_name=OPENAI_MODEL_NAME,\n",
    "    openai_api_base=OPENAI_DEPLOYMENT_ENDPOINT,\n",
    "    openai_api_version=OPENAI_DEPLOYMENT_VERSION,\n",
    "    openai_api_key=OPENAI_API_KEY,\n",
    "    openai_api_type=\"azure\"\n",
    ")\n",
    "\n",
    "### Test LLM ###\n",
    "LLM.predict(\"what is your role?\")\n"
   ]
  },
  {
   "cell_type": "code",
   "execution_count": 28,
   "id": "e71f04d4f4a86e3c",
   "metadata": {
    "ExecuteTime": {
     "end_time": "2023-10-09T11:05:09.775086Z",
     "start_time": "2023-10-09T11:05:07.623289Z"
    },
    "collapsed": false
   },
   "outputs": [
    {
     "name": "stdout",
     "output_type": "stream",
     "text": [
      "As a Data Entry and Collection Assistant in an ESG Ratings Organization, my role is to collect and enter data related to environmental, social, and governance (ESG) factors of companies. I am responsible for gathering information from various sources such as company reports, news articles, and other publicly available data. I also ensure the accuracy and completeness of the data entered into the organization's database. Additionally, I may assist in analyzing the data and preparing reports for clients or internal use.\n"
     ]
    }
   ],
   "source": [
    "from langchain.schema import HumanMessage, SystemMessage\n",
    "\n",
    "\n",
    "### Test With Messages ###\n",
    "messages = [\n",
    "    SystemMessage(\n",
    "        content=\"You are a Data Entry and Collection Assistant in an ESG Ratings Organization.\"\n",
    "    ),\n",
    "    HumanMessage(\n",
    "        content=\"What is Your role?\"\n",
    "    )\n",
    "]\n",
    "\n",
    "\n",
    "### Inference ###\n",
    "response = LLM(messages, temperature=0)\n",
    "\n",
    "### Response ###\n",
    "text = response.content\n",
    "print(text)\n"
   ]
  },
  {
   "cell_type": "code",
   "execution_count": 23,
   "id": "624761d1a1b47840",
   "metadata": {
    "ExecuteTime": {
     "end_time": "2023-10-09T11:01:47.833385Z",
     "start_time": "2023-10-09T11:01:47.832813Z"
    },
    "collapsed": false
   },
   "outputs": [],
   "source": [
    "### Batch Inference ###\n"
   ]
  },
  {
   "cell_type": "code",
   "execution_count": null,
   "id": "886d63f2b7f3fe35",
   "metadata": {
    "collapsed": false
   },
   "outputs": [],
   "source": [
    "### Dataset ###\n",
    "from huggingface_hub import login\n",
    "from datasets import load_dataset\n",
    "\n",
    "### Login ###\n",
    "HF_TOKEN = getpass(\"HF Token: \")\n",
    "login(token=HF_TOKEN)\n"
   ]
  }
 ],
 "metadata": {
  "kernelspec": {
   "display_name": "Python 3",
   "language": "python",
   "name": "python3"
  },
  "language_info": {
   "codemirror_mode": {
    "name": "ipython",
    "version": 3
   },
   "file_extension": ".py",
   "mimetype": "text/x-python",
   "name": "python",
   "nbconvert_exporter": "python",
   "pygments_lexer": "ipython3",
   "version": "3.11.5"
  }
 },
 "nbformat": 4,
 "nbformat_minor": 5
}
